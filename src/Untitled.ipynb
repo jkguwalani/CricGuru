{
 "cells": [
  {
   "cell_type": "code",
   "execution_count": 8,
   "metadata": {},
   "outputs": [],
   "source": [
    "import pandas as pd\n",
    "import numpy as np\n",
    "import sklearn\n",
    "from sklearn import preprocessing, model_selection, svm, neighbors\n",
    "from sklearn.linear_model import LinearRegression\n",
    "from sklearn.ensemble import RandomForestClassifier\n",
    "from sklearn.naive_bayes import GaussianNB\n",
    "import data as d\n",
    "\n",
    "teamsDF = pd.read_csv('../data/Team.csv')\n",
    "\n",
    "matchesTeamsDF = pd.read_csv(\"../data/gen/match_team.csv\")\n",
    "data = matchesTeamsDF.drop(['Match_Id'], 1)\n",
    "data = data.drop(['Unnamed: 0'], 1)\n",
    "X = data.drop(['Match_Won'], 1)\n",
    "Y = data['Match_Won']\n",
    "# print(X)\n",
    "# print(Y)\n",
    "X = preprocessing.scale(X)\n",
    "\n",
    "X_train, X_test, y_train, y_test = model_selection.train_test_split(X, Y, test_size=0.25)\n",
    "\n",
    "# a: teamId, b: opponentId, c:tosswon, d:batfirst\n",
    "\n",
    "\n",
    "def predicta(aa, bb, cc, dd):\n",
    "    print(aa, bb, cc, dd)\n",
    "    #print(\"Enter Team A Id\")\n",
    "    teamId = aa\n",
    "    #while(len(teamsDF[teamsDF[\"Team_Id\"] == int(teamId)]) == 0):\n",
    "        #print(\"Please Enter valid Team Id\")\n",
    "        #teamId = aa\n",
    "    #print(\"Enter Team B Id\")\n",
    "    opponentId = bb\n",
    "    #while(len(teamsDF[teamsDF[\"Team_Id\"] == int(opponentId)]) == 0):\n",
    "        #print(\"Please Enter valid Team Id\")\n",
    "        #opponentId = bb\n",
    "    #print(\"Which team won the toss?Enter Id\")\n",
    "    tossWon = cc\n",
    "    #while((tossWon != teamId) & (tossWon != opponentId)):\n",
    "        #print(\"Please Enter valid Team Id. %s or %s\" % (teamId, opponentId))\n",
    "        #tossWon = cc\n",
    "    #print(\"Which team bat first?Enter Id\")\n",
    "    batFirst = dd\n",
    "    #while((batFirst != teamId) & (batFirst != opponentId)):\n",
    "        #print(\"Please Enter valid Team Id. %s or %s\" % (teamId, opponentId))\n",
    "        #batFirst = dd\n",
    "    px = d.generatePredictData(int(teamId), int(opponentId), int(tossWon), int(batFirst))\n",
    "   # px = d.generatePredictData(int(teamId), int(\n",
    "    #    opponentId), int(tossWon), int(batFirst))\n",
    "   # print(px)\n",
    "    px = px.drop(['Match_Id'], 1)\n",
    "    px = px.drop(['Match_Won'], 1)\n",
    "    # print(px)\n",
    "    px = preprocessing.scale(px)\n",
    "    #print(px)\n",
    "    \n",
    "    #rf = RandomForestClassifier()\n",
    "    #rf.fit(X_train, y_train)\n",
    "    #pred=rf.predict(px)\n",
    "    \n",
    "    lin_svm = svm.LinearSVC()\n",
    "    lin_svm.fit(X_train, y_train)\n",
    "    pred = lin_svm.predict(px)\n",
    "    # return A, B\n",
    "    #x=pred[0]\n",
    "    print(pred)\n",
    "    if(pred[0] == 1):\n",
    "        #print(\"A\")\n",
    "        print(\"A wins\")\n",
    "        #return \"A wins\"\n",
    "    else:\n",
    "        #print(\"B\")\n",
    "        print(\"B Wins\")\n",
    "        #return \"B wins\""
   ]
  },
  {
   "cell_type": "code",
   "execution_count": 12,
   "metadata": {},
   "outputs": [
    {
     "name": "stdout",
     "output_type": "stream",
     "text": [
      "3 2 2 2\n",
      "[1]\n",
      "A wins\n"
     ]
    }
   ],
   "source": [
    "predicta(3,2,2,2)"
   ]
  },
  {
   "cell_type": "code",
   "execution_count": 26,
   "metadata": {},
   "outputs": [
    {
     "name": "stdout",
     "output_type": "stream",
     "text": [
      "2 1 1 1\n",
      "[[0. 0. 0. 0. 0. 0. 0. 0.]]\n",
      "[1]\n"
     ]
    },
    {
     "data": {
      "text/plain": [
       "'A wins'"
      ]
     },
     "execution_count": 26,
     "metadata": {},
     "output_type": "execute_result"
    }
   ],
   "source": [
    "predicta(2,1,1,1)"
   ]
  },
  {
   "cell_type": "code",
   "execution_count": 27,
   "metadata": {},
   "outputs": [
    {
     "name": "stdout",
     "output_type": "stream",
     "text": [
      "1 2 1 1\n",
      "[[0. 0. 0. 0. 0. 0. 0. 0.]]\n",
      "[1]\n"
     ]
    },
    {
     "data": {
      "text/plain": [
       "'A wins'"
      ]
     },
     "execution_count": 27,
     "metadata": {},
     "output_type": "execute_result"
    }
   ],
   "source": [
    "predicta(1,2,1,1)"
   ]
  },
  {
   "cell_type": "code",
   "execution_count": null,
   "metadata": {},
   "outputs": [],
   "source": []
  }
 ],
 "metadata": {
  "kernelspec": {
   "display_name": "Python 3",
   "language": "python",
   "name": "python3"
  },
  "language_info": {
   "codemirror_mode": {
    "name": "ipython",
    "version": 3
   },
   "file_extension": ".py",
   "mimetype": "text/x-python",
   "name": "python",
   "nbconvert_exporter": "python",
   "pygments_lexer": "ipython3",
   "version": "3.6.5"
  }
 },
 "nbformat": 4,
 "nbformat_minor": 2
}
