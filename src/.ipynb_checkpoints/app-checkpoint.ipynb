{
 "cells": [
  {
   "cell_type": "code",
   "execution_count": 1,
   "metadata": {},
   "outputs": [
    {
     "name": "stderr",
     "output_type": "stream",
     "text": [
      " * Running on http://0.0.0.0:5000/ (Press CTRL+C to quit)\n"
     ]
    },
    {
     "name": "stdout",
     "output_type": "stream",
     "text": [
      "5 7 5 7\n",
      "Enter Team A Id\n",
      "Enter Team B Id\n"
     ]
    },
    {
     "name": "stderr",
     "output_type": "stream",
     "text": [
      "192.168.1.3 - - [25/Mar/2019 14:54:14] \"POST / HTTP/1.1\" 200 -\n"
     ]
    },
    {
     "name": "stdout",
     "output_type": "stream",
     "text": [
      "Enter Team A Id\n",
      "Enter Team B Id\n",
      "LMP Simmons\n",
      "Enter Team A Id\n",
      "Enter Team B Id\n",
      "1 5 1 5\n",
      "Enter Team A Id\n",
      "Enter Team B Id\n"
     ]
    },
    {
     "name": "stderr",
     "output_type": "stream",
     "text": [
      "192.168.1.3 - - [25/Mar/2019 14:54:26] \"POST / HTTP/1.1\" 200 -\n"
     ]
    },
    {
     "name": "stdout",
     "output_type": "stream",
     "text": [
      "Enter Team A Id\n",
      "Enter Team B Id\n",
      "CH Gayle\n",
      "Enter Team A Id\n",
      "Enter Team B Id\n",
      "1 2 1 1\n",
      "Enter Team A Id\n",
      "Enter Team B Id\n",
      "Enter Team A Id\n",
      "Enter Team B Id\n"
     ]
    },
    {
     "name": "stderr",
     "output_type": "stream",
     "text": [
      "192.168.1.3 - - [25/Mar/2019 14:55:08] \"POST / HTTP/1.1\" 200 -\n"
     ]
    },
    {
     "name": "stdout",
     "output_type": "stream",
     "text": [
      "CH Gayle\n",
      "Enter Team A Id\n",
      "Enter Team B Id\n",
      "7 3 3 7\n",
      "Enter Team A Id\n",
      "Enter Team B Id\n",
      "Enter Team A Id\n",
      "Enter Team B Id\n"
     ]
    },
    {
     "name": "stderr",
     "output_type": "stream",
     "text": [
      "192.168.1.3 - - [25/Mar/2019 14:55:16] \"POST / HTTP/1.1\" 200 -\n"
     ]
    },
    {
     "name": "stdout",
     "output_type": "stream",
     "text": [
      "LMP Simmons\n",
      "Enter Team A Id\n",
      "Enter Team B Id\n",
      "2 1 2 2\n",
      "Enter Team A Id\n",
      "Enter Team B Id\n",
      "Enter Team A Id\n",
      "Enter Team B Id\n",
      "CH Gayle\n"
     ]
    },
    {
     "name": "stderr",
     "output_type": "stream",
     "text": [
      "192.168.1.3 - - [25/Mar/2019 14:56:38] \"POST / HTTP/1.1\" 200 -\n"
     ]
    },
    {
     "name": "stdout",
     "output_type": "stream",
     "text": [
      "Enter Team A Id\n",
      "Enter Team B Id\n",
      "2 9 9 9\n",
      "Enter Team A Id\n",
      "Enter Team B Id\n"
     ]
    },
    {
     "name": "stderr",
     "output_type": "stream",
     "text": [
      "192.168.1.3 - - [25/Mar/2019 14:56:44] \"POST / HTTP/1.1\" 200 -\n"
     ]
    },
    {
     "name": "stdout",
     "output_type": "stream",
     "text": [
      "Enter Team A Id\n",
      "Enter Team B Id\n",
      "CH Gayle\n",
      "Enter Team A Id\n",
      "Enter Team B Id\n",
      "2 9 9 9\n"
     ]
    },
    {
     "name": "stderr",
     "output_type": "stream",
     "text": [
      "192.168.1.3 - - [25/Mar/2019 14:56:45] \"POST / HTTP/1.1\" 200 -\n"
     ]
    },
    {
     "name": "stdout",
     "output_type": "stream",
     "text": [
      "Enter Team A Id\n",
      "Enter Team B Id\n",
      "Enter Team A Id\n",
      "Enter Team B Id\n",
      "CH Gayle\n",
      "Enter Team A Id\n",
      "Enter Team B Id\n"
     ]
    }
   ],
   "source": [
    "from flask import Flask, jsonify, request\n",
    "from main import predict\n",
    "from bowler import best_bowler\n",
    "from batsman import best_batsman\n",
    "from allrounder import best_allrounder\n",
    "\n",
    "app = Flask(__name__)\n",
    "\n",
    "# data['A']: teamid, data['B']: oppponentid,  data['C']: tosswon, data['D']: batfirst\n",
    "\n",
    "\n",
    "@app.route('/', methods=['POST'])\n",
    "def predict_winner():\n",
    "    # fitModels()\n",
    "    data = request.get_json()\n",
    "    winner = predict(data['A'], data['B'], data['C'], data['D'])\n",
    "    bestbowler = best_bowler(data['A'], data['B'])\n",
    "    bestbatsmen = best_batsman(data['A'], data['B'])\n",
    "    allrounder = best_allrounder(data['A'], data['B'])\n",
    "    return jsonify({\n",
    "        \"winner\": winner,\n",
    "        \"best_bowler\": bestbowler,\n",
    "        \"best_batsman\": bestbatsmen,\n",
    "        \"all_rounder\": allrounder\n",
    "    })\n",
    "\n",
    "from werkzeug.serving import run_simple\n",
    "run_simple('0.0.0.0', 5000 ,app)\n"
   ]
  },
  {
   "cell_type": "code",
   "execution_count": null,
   "metadata": {},
   "outputs": [],
   "source": []
  }
 ],
 "metadata": {
  "kernelspec": {
   "display_name": "Python 3",
   "language": "python",
   "name": "python3"
  },
  "language_info": {
   "codemirror_mode": {
    "name": "ipython",
    "version": 3
   },
   "file_extension": ".py",
   "mimetype": "text/x-python",
   "name": "python",
   "nbconvert_exporter": "python",
   "pygments_lexer": "ipython3",
   "version": "3.6.5"
  }
 },
 "nbformat": 4,
 "nbformat_minor": 2
}
