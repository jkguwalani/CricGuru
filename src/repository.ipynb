{
 "cells": [
  {
   "cell_type": "code",
   "execution_count": 1,
   "metadata": {},
   "outputs": [],
   "source": [
    "import pandas\n",
    "\n",
    "ball_by_ball_df = pandas.read_csv('../data/Ball_by_Ball.csv')\n",
    "match_df = pandas.read_csv('../data/Match.csv')\n",
    "player_match_df = pandas.read_csv('../data/Player_Match.csv')\n",
    "player_df = pandas.read_csv('../data/Player.csv')\n",
    "season_df = pandas.read_csv('../data/Season.csv')\n",
    "team_df = pandas.read_csv('../data/Team.csv')\n"
   ]
  },
  {
   "cell_type": "code",
   "execution_count": null,
   "metadata": {},
   "outputs": [],
   "source": []
  }
 ],
 "metadata": {
  "kernelspec": {
   "display_name": "Python 3",
   "language": "python",
   "name": "python3"
  },
  "language_info": {
   "codemirror_mode": {
    "name": "ipython",
    "version": 3
   },
   "file_extension": ".py",
   "mimetype": "text/x-python",
   "name": "python",
   "nbconvert_exporter": "python",
   "pygments_lexer": "ipython3",
   "version": "3.6.6"
  }
 },
 "nbformat": 4,
 "nbformat_minor": 2
}
