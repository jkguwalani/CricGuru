{
 "cells": [
  {
   "cell_type": "code",
   "execution_count": 5,
   "metadata": {},
   "outputs": [
    {
     "data": {
      "image/png": "[encoded data removed]",
      "text/plain": [
       "<Figure size 432x288 with 1 Axes>"
      ]
     },
     "metadata": {},
     "output_type": "display_data"
    }
   ],
   "source": [
    "import repository as repo\n",
    "import numpy as np\n",
    "import matplotlib.pyplot as plot\n",
    "import pandas as pd\n",
    "\n",
    "matchesDF = repo.match_df\n",
    "teamsDF = repo.team_df\n",
    "seasonsDF = repo.season_df\n",
    "\n",
    "data = pd.DataFrame( columns=('team_id','short_name','matches', 'wins','season_id',\"win_percent\"))\n",
    "\n",
    "def getMatchesForTeamInSeason(team_id,season_id):\n",
    "    return matchesDF[((matchesDF[\"Team_Name_Id\"] == team_id) | (matchesDF[\"Opponent_Team_Id\"] == team_id)) & (matchesDF[\"Season_Id\"]==season_id)]\n",
    "\n",
    "def getMatchesWonByTeamInSeason(team_id,season_id):\n",
    "    return matchesDF[(matchesDF[\"Match_Winner_Id\"] == team_id) & (matchesDF[\"Season_Id\"] == season_id)]\n",
    "\n",
    "pos = 0\n",
    "for index,row in teamsDF.iterrows():\n",
    "    team_id = row[\"Team_Id\"]\n",
    "    short_name = row[\"Team_Short_Code\"]\n",
    "    for i,r in seasonsDF.iterrows():\n",
    "        season_id = r[\"Season_Id\"]\n",
    "        matches = len(getMatchesForTeamInSeason(team_id,season_id))\n",
    "        wins = len(getMatchesWonByTeamInSeason(team_id,season_id))\n",
    "        win_percent = 0\n",
    "        if(matches > 0):\n",
    "            win_percent = (wins*100)/matches\n",
    "        new_row = [team_id,short_name,matches,wins,season_id,win_percent]\n",
    "        data.loc[pos] = new_row\n",
    "        pos = pos+1\n",
    "\n",
    "\n",
    "def plotWinPercentForSeasons():\n",
    "\n",
    "    bars =[]\n",
    "    X = np.array(teamsDF[\"Team_Id\"])\n",
    "    X_LABELS = teamsDF[\"Team_Short_Code\"]\n",
    "    ax = plot.subplot()\n",
    "    ax.set_ylabel('Win Percentage')\n",
    "    ax.set_title('Win Percentage of teams over seasons')\n",
    "    w = 0\n",
    "    for i,r in seasonsDF.iterrows():\n",
    "        season_id = r[\"Season_Id\"]\n",
    "        seasonDF = data[(data[\"season_id\"] == season_id)]\n",
    "        Y = np.array(seasonDF[\"win_percent\"])\n",
    "        bar = ax.bar(X + w,Y,width=0.1,align='center')\n",
    "        bars.append(bar)\n",
    "        w = w + 0.1\n",
    "    ax.legend((bars[0],bars[1],bars[2],bars[3],bars[4],bars[5],bars[6],bars[7],bars[8]),(\"2008\",\"2009\",\"2010\",\"2011\",\"2012\",\"2013\",\"2014\",\"2015\",\"2016\"))\n",
    "    ax.set_xticks(X + w/2)\n",
    "    ax.set_xticklabels(X_LABELS)\n",
    "    plot.show()\n",
    "\n",
    "plotWinPercentForSeasons()\n"
   ]
  },
  {
   "cell_type": "code",
   "execution_count": null,
   "metadata": {},
   "outputs": [],
   "source": []
  },
  {
   "cell_type": "code",
   "execution_count": null,
   "metadata": {},
   "outputs": [],
   "source": []
  }
 ],
 "metadata": {
  "kernelspec": {
   "display_name": "Python 3",
   "language": "python",
   "name": "python3"
  },
  "language_info": {
   "codemirror_mode": {
    "name": "ipython",
    "version": 3
   },
   "file_extension": ".py",
   "mimetype": "text/x-python",
   "name": "python",
   "nbconvert_exporter": "python",
   "pygments_lexer": "ipython3",
   "version": "3.6.6"
  }
 },
 "nbformat": 4,
 "nbformat_minor": 2
}
