{
 "cells": [
  {
   "cell_type": "code",
   "execution_count": null,
   "metadata": {},
   "outputs": [
    {
     "name": "stderr",
     "output_type": "stream",
     "text": [
      " * Running on http://0.0.0.0:5000/ (Press CTRL+C to quit)\n"
     ]
    },
    {
     "name": "stdout",
     "output_type": "stream",
     "text": [
      "4 5 4 5\n"
     ]
    },
    {
     "name": "stderr",
     "output_type": "stream",
     "text": [
      "192.168.1.3 - - [25/Mar/2019 21:09:19] \"POST / HTTP/1.1\" 200 -\n"
     ]
    },
    {
     "name": "stdout",
     "output_type": "stream",
     "text": [
      "Enter Team A Id\n",
      "Enter Team B Id\n",
      "Enter Team A Id\n",
      "Enter Team B Id\n",
      "Kamran Akmal\n",
      "Enter Team A Id\n",
      "Enter Team B Id\n"
     ]
    },
    {
     "name": "stderr",
     "output_type": "stream",
     "text": [
      "[2019-03-25 21:09:36,000] ERROR in app: Exception on / [POST]\n",
      "Traceback (most recent call last):\n",
      "  File \"C:\\Users\\guwal\\Anaconda3_new\\lib\\site-packages\\flask\\app.py\", line 2292, in wsgi_app\n",
      "    response = self.full_dispatch_request()\n",
      "  File \"C:\\Users\\guwal\\Anaconda3_new\\lib\\site-packages\\flask\\app.py\", line 1815, in full_dispatch_request\n",
      "    rv = self.handle_user_exception(e)\n",
      "  File \"C:\\Users\\guwal\\Anaconda3_new\\lib\\site-packages\\flask\\app.py\", line 1718, in handle_user_exception\n",
      "    reraise(exc_type, exc_value, tb)\n",
      "  File \"C:\\Users\\guwal\\Anaconda3_new\\lib\\site-packages\\flask\\_compat.py\", line 35, in reraise\n",
      "    raise value\n",
      "  File \"C:\\Users\\guwal\\Anaconda3_new\\lib\\site-packages\\flask\\app.py\", line 1813, in full_dispatch_request\n",
      "    rv = self.dispatch_request()\n",
      "  File \"C:\\Users\\guwal\\Anaconda3_new\\lib\\site-packages\\flask\\app.py\", line 1799, in dispatch_request\n",
      "    return self.view_functions[rule.endpoint](**req.view_args)\n",
      "  File \"<ipython-input-6-2dc79396eb13>\", line 16, in predict_winner\n",
      "    winner = predict(data['A'], data['B'], data['C'], data['D'])\n",
      "KeyError: 'C'\n",
      "192.168.1.3 - - [25/Mar/2019 21:09:36] \"POST / HTTP/1.1\" 500 -\n"
     ]
    },
    {
     "name": "stdout",
     "output_type": "stream",
     "text": [
      "3 4 3 4\n",
      "Enter Team A Id\n",
      "Enter Team B Id\n"
     ]
    },
    {
     "name": "stderr",
     "output_type": "stream",
     "text": [
      "192.168.1.3 - - [25/Mar/2019 21:11:34] \"POST / HTTP/1.1\" 200 -\n"
     ]
    },
    {
     "name": "stdout",
     "output_type": "stream",
     "text": [
      "Enter Team A Id\n",
      "Enter Team B Id\n",
      "SE Marsh\n",
      "Enter Team A Id\n",
      "Enter Team B Id\n"
     ]
    },
    {
     "name": "stderr",
     "output_type": "stream",
     "text": [
      "[2019-03-25 21:11:48,913] ERROR in app: Exception on / [POST]\n",
      "Traceback (most recent call last):\n",
      "  File \"C:\\Users\\guwal\\Anaconda3_new\\lib\\site-packages\\flask\\app.py\", line 2292, in wsgi_app\n",
      "    response = self.full_dispatch_request()\n",
      "  File \"C:\\Users\\guwal\\Anaconda3_new\\lib\\site-packages\\flask\\app.py\", line 1815, in full_dispatch_request\n",
      "    rv = self.handle_user_exception(e)\n",
      "  File \"C:\\Users\\guwal\\Anaconda3_new\\lib\\site-packages\\flask\\app.py\", line 1718, in handle_user_exception\n",
      "    reraise(exc_type, exc_value, tb)\n",
      "  File \"C:\\Users\\guwal\\Anaconda3_new\\lib\\site-packages\\flask\\_compat.py\", line 35, in reraise\n",
      "    raise value\n",
      "  File \"C:\\Users\\guwal\\Anaconda3_new\\lib\\site-packages\\flask\\app.py\", line 1813, in full_dispatch_request\n",
      "    rv = self.dispatch_request()\n",
      "  File \"C:\\Users\\guwal\\Anaconda3_new\\lib\\site-packages\\flask\\app.py\", line 1799, in dispatch_request\n",
      "    return self.view_functions[rule.endpoint](**req.view_args)\n",
      "  File \"<ipython-input-6-2dc79396eb13>\", line 16, in predict_winner\n",
      "    winner = predict(data['A'], data['B'], data['C'], data['D'])\n",
      "KeyError: 'C'\n",
      "192.168.1.3 - - [25/Mar/2019 21:11:48] \"POST / HTTP/1.1\" 500 -\n"
     ]
    },
    {
     "name": "stdout",
     "output_type": "stream",
     "text": [
      "2 1 2 2\n",
      "Enter Team A Id\n",
      "Enter Team B Id\n",
      "Enter Team A Id\n",
      "Enter Team B Id\n"
     ]
    },
    {
     "name": "stderr",
     "output_type": "stream",
     "text": [
      "192.168.1.3 - - [25/Mar/2019 21:21:52] \"POST / HTTP/1.1\" 200 -\n"
     ]
    },
    {
     "name": "stdout",
     "output_type": "stream",
     "text": [
      "CH Gayle\n",
      "Enter Team A Id\n",
      "Enter Team B Id\n",
      "5 6 5 5\n",
      "Enter Team A Id\n",
      "Enter Team B Id\n",
      "Enter Team A Id\n"
     ]
    },
    {
     "name": "stderr",
     "output_type": "stream",
     "text": [
      "192.168.1.3 - - [25/Mar/2019 21:21:57] \"POST / HTTP/1.1\" 200 -\n"
     ]
    },
    {
     "name": "stdout",
     "output_type": "stream",
     "text": [
      "Enter Team B Id\n",
      "DA Warner\n",
      "Enter Team A Id\n",
      "Enter Team B Id\n",
      "1 5 1 1\n",
      "Enter Team A Id\n",
      "Enter Team B Id\n",
      "Enter Team A Id\n",
      "Enter Team B Id\n",
      "CH Gayle\n"
     ]
    },
    {
     "name": "stderr",
     "output_type": "stream",
     "text": [
      "192.168.1.3 - - [25/Mar/2019 21:22:02] \"POST / HTTP/1.1\" 200 -\n"
     ]
    },
    {
     "name": "stdout",
     "output_type": "stream",
     "text": [
      "Enter Team A Id\n",
      "Enter Team B Id\n",
      "1 3 1 1\n",
      "Enter Team A Id\n",
      "Enter Team B Id\n",
      "Enter Team A Id\n",
      "Enter Team B Id\n",
      "CH Gayle\n"
     ]
    },
    {
     "name": "stderr",
     "output_type": "stream",
     "text": [
      "192.168.1.3 - - [25/Mar/2019 21:22:10] \"POST / HTTP/1.1\" 200 -\n"
     ]
    },
    {
     "name": "stdout",
     "output_type": "stream",
     "text": [
      "Enter Team A Id\n",
      "Enter Team B Id\n",
      "1 3 1 1\n",
      "Enter Team A Id\n",
      "Enter Team B Id\n"
     ]
    },
    {
     "name": "stderr",
     "output_type": "stream",
     "text": [
      "192.168.1.3 - - [25/Mar/2019 21:22:12] \"POST / HTTP/1.1\" 200 -\n"
     ]
    },
    {
     "name": "stdout",
     "output_type": "stream",
     "text": [
      "Enter Team A Id\n",
      "Enter Team B Id\n",
      "CH Gayle\n",
      "Enter Team A Id\n",
      "Enter Team B Id\n",
      "3 5 3 3\n",
      "Enter Team A Id\n",
      "Enter Team B Id\n"
     ]
    },
    {
     "name": "stderr",
     "output_type": "stream",
     "text": [
      "192.168.1.3 - - [25/Mar/2019 21:22:28] \"POST / HTTP/1.1\" 200 -\n"
     ]
    },
    {
     "name": "stdout",
     "output_type": "stream",
     "text": [
      "Enter Team A Id\n",
      "Enter Team B Id\n",
      "Kamran Akmal\n",
      "Enter Team A Id\n",
      "Enter Team B Id\n"
     ]
    },
    {
     "name": "stderr",
     "output_type": "stream",
     "text": [
      "[2019-03-25 21:22:33,528] ERROR in app: Exception on / [POST]\n",
      "Traceback (most recent call last):\n",
      "  File \"C:\\Users\\guwal\\Anaconda3_new\\lib\\site-packages\\flask\\app.py\", line 2292, in wsgi_app\n",
      "    response = self.full_dispatch_request()\n",
      "  File \"C:\\Users\\guwal\\Anaconda3_new\\lib\\site-packages\\flask\\app.py\", line 1815, in full_dispatch_request\n",
      "    rv = self.handle_user_exception(e)\n",
      "  File \"C:\\Users\\guwal\\Anaconda3_new\\lib\\site-packages\\flask\\app.py\", line 1718, in handle_user_exception\n",
      "    reraise(exc_type, exc_value, tb)\n",
      "  File \"C:\\Users\\guwal\\Anaconda3_new\\lib\\site-packages\\flask\\_compat.py\", line 35, in reraise\n",
      "    raise value\n",
      "  File \"C:\\Users\\guwal\\Anaconda3_new\\lib\\site-packages\\flask\\app.py\", line 1813, in full_dispatch_request\n",
      "    rv = self.dispatch_request()\n",
      "  File \"C:\\Users\\guwal\\Anaconda3_new\\lib\\site-packages\\flask\\app.py\", line 1799, in dispatch_request\n",
      "    return self.view_functions[rule.endpoint](**req.view_args)\n",
      "  File \"<ipython-input-6-2dc79396eb13>\", line 16, in predict_winner\n",
      "    winner = predict(data['A'], data['B'], data['C'], data['D'])\n",
      "  File \"C:\\Users\\guwal\\Desktop\\IPL final project\\IPL Project final\\src\\main.py\", line 36, in predict\n",
      "    opponentId = bb\n",
      "ValueError: invalid literal for int() with base 10: 'S'\n",
      "192.168.1.3 - - [25/Mar/2019 21:22:33] \"POST / HTTP/1.1\" 500 -\n"
     ]
    },
    {
     "name": "stdout",
     "output_type": "stream",
     "text": [
      "8 S 8 8\n",
      "8 6 8 8\n",
      "Enter Team A Id\n",
      "Enter Team B Id\n",
      "Enter Team A Id\n",
      "Enter Team B Id\n",
      "DA Warner\n",
      "Enter Team A Id\n",
      "Enter Team B Id\n"
     ]
    },
    {
     "name": "stderr",
     "output_type": "stream",
     "text": [
      "192.168.1.3 - - [25/Mar/2019 21:22:37] \"POST / HTTP/1.1\" 200 -\n"
     ]
    },
    {
     "name": "stdout",
     "output_type": "stream",
     "text": [
      "3 5 3 3\n",
      "Enter Team A Id\n",
      "Enter Team B Id\n",
      "Enter Team A Id\n"
     ]
    },
    {
     "name": "stderr",
     "output_type": "stream",
     "text": [
      "192.168.1.3 - - [25/Mar/2019 21:22:43] \"POST / HTTP/1.1\" 200 -\n"
     ]
    },
    {
     "name": "stdout",
     "output_type": "stream",
     "text": [
      "Enter Team B Id\n",
      "Kamran Akmal\n",
      "Enter Team A Id\n",
      "Enter Team B Id\n",
      "3 4 3 3\n",
      "Enter Team A Id\n",
      "Enter Team B Id\n",
      "Enter Team A Id\n",
      "Enter Team B Id\n",
      "SE Marsh\n",
      "Enter Team A Id\n",
      "Enter Team B Id\n"
     ]
    },
    {
     "name": "stderr",
     "output_type": "stream",
     "text": [
      "192.168.1.3 - - [25/Mar/2019 21:22:48] \"POST / HTTP/1.1\" 200 -\n"
     ]
    },
    {
     "name": "stdout",
     "output_type": "stream",
     "text": [
      "3 1 3 3\n",
      "Enter Team A Id\n",
      "Enter Team B Id\n",
      "Enter Team A Id\n",
      "Enter Team B Id\n",
      "CH Gayle\n",
      "Enter Team A Id\n",
      "Enter Team B Id\n"
     ]
    },
    {
     "name": "stderr",
     "output_type": "stream",
     "text": [
      "192.168.1.3 - - [25/Mar/2019 21:22:52] \"POST / HTTP/1.1\" 200 -\n"
     ]
    },
    {
     "name": "stdout",
     "output_type": "stream",
     "text": [
      "3 1 3 3\n",
      "Enter Team A Id\n",
      "Enter Team B Id\n",
      "Enter Team A Id\n",
      "Enter Team B Id"
     ]
    },
    {
     "name": "stderr",
     "output_type": "stream",
     "text": [
      "192.168.1.3 - - [25/Mar/2019 21:22:59] \"POST / HTTP/1.1\" 200 -\n"
     ]
    },
    {
     "name": "stdout",
     "output_type": "stream",
     "text": [
      "\n",
      "CH Gayle\n",
      "Enter Team A Id\n",
      "Enter Team B Id\n"
     ]
    },
    {
     "name": "stderr",
     "output_type": "stream",
     "text": [
      "[2019-03-25 21:23:03,003] ERROR in app: Exception on / [POST]\n",
      "Traceback (most recent call last):\n",
      "  File \"C:\\Users\\guwal\\Anaconda3_new\\lib\\site-packages\\flask\\app.py\", line 2292, in wsgi_app\n",
      "    response = self.full_dispatch_request()\n",
      "  File \"C:\\Users\\guwal\\Anaconda3_new\\lib\\site-packages\\flask\\app.py\", line 1815, in full_dispatch_request\n",
      "    rv = self.handle_user_exception(e)\n",
      "  File \"C:\\Users\\guwal\\Anaconda3_new\\lib\\site-packages\\flask\\app.py\", line 1718, in handle_user_exception\n",
      "    reraise(exc_type, exc_value, tb)\n",
      "  File \"C:\\Users\\guwal\\Anaconda3_new\\lib\\site-packages\\flask\\_compat.py\", line 35, in reraise\n",
      "    raise value\n",
      "  File \"C:\\Users\\guwal\\Anaconda3_new\\lib\\site-packages\\flask\\app.py\", line 1813, in full_dispatch_request\n",
      "    rv = self.dispatch_request()\n",
      "  File \"C:\\Users\\guwal\\Anaconda3_new\\lib\\site-packages\\flask\\app.py\", line 1799, in dispatch_request\n",
      "    return self.view_functions[rule.endpoint](**req.view_args)\n",
      "  File \"<ipython-input-6-2dc79396eb13>\", line 16, in predict_winner\n",
      "    winner = predict(data['A'], data['B'], data['C'], data['D'])\n",
      "  File \"C:\\Users\\guwal\\Desktop\\IPL final project\\IPL Project final\\src\\main.py\", line 36, in predict\n",
      "    opponentId = bb\n",
      "ValueError: invalid literal for int() with base 10: 'S'\n",
      "192.168.1.3 - - [25/Mar/2019 21:23:03] \"POST / HTTP/1.1\" 500 -\n"
     ]
    },
    {
     "name": "stdout",
     "output_type": "stream",
     "text": [
      "7 S 7 7\n",
      "7 1 7 7\n",
      "Enter Team A Id\n",
      "Enter Team B Id\n",
      "Enter Team A Id\n",
      "Enter Team B Id\n",
      "CH Gayle\n"
     ]
    },
    {
     "name": "stderr",
     "output_type": "stream",
     "text": [
      "192.168.1.3 - - [25/Mar/2019 21:23:06] \"POST / HTTP/1.1\" 200 -\n"
     ]
    },
    {
     "name": "stdout",
     "output_type": "stream",
     "text": [
      "Enter Team A Id\n",
      "Enter Team B Id\n",
      "7 1 7 7\n",
      "Enter Team A Id\n",
      "Enter Team B Id\n",
      "Enter Team A Id\n",
      "Enter Team B Id\n",
      "CH Gayle\n"
     ]
    },
    {
     "name": "stderr",
     "output_type": "stream",
     "text": [
      "192.168.1.3 - - [25/Mar/2019 21:23:08] \"POST / HTTP/1.1\" 200 -\n"
     ]
    },
    {
     "name": "stdout",
     "output_type": "stream",
     "text": [
      "Enter Team A Id\n",
      "Enter Team B Id\n",
      "8 1 8 8\n",
      "Enter Team A Id\n",
      "Enter Team B Id\n",
      "Enter Team A Id\n",
      "Enter Team B Id\n",
      "CH Gayle\n",
      "Enter Team A Id\n",
      "Enter Team B Id\n"
     ]
    },
    {
     "name": "stderr",
     "output_type": "stream",
     "text": [
      "192.168.1.3 - - [25/Mar/2019 21:23:14] \"POST / HTTP/1.1\" 200 -\n"
     ]
    },
    {
     "name": "stdout",
     "output_type": "stream",
     "text": [
      "7 3 7 7\n",
      "Enter Team A Id\n",
      "Enter Team B Id\n",
      "Enter Team A Id\n",
      "Enter Team B Id\n",
      "LMP Simmons\n"
     ]
    },
    {
     "name": "stderr",
     "output_type": "stream",
     "text": [
      "192.168.1.3 - - [25/Mar/2019 21:24:37] \"POST / HTTP/1.1\" 200 -\n"
     ]
    },
    {
     "name": "stdout",
     "output_type": "stream",
     "text": [
      "Enter Team A Id\n",
      "Enter Team B Id\n",
      "1 3 1 1\n",
      "Enter Team A Id\n",
      "Enter Team B Id\n"
     ]
    },
    {
     "name": "stderr",
     "output_type": "stream",
     "text": [
      "192.168.1.3 - - [25/Mar/2019 21:24:43] \"POST / HTTP/1.1\" 200 -\n"
     ]
    },
    {
     "name": "stdout",
     "output_type": "stream",
     "text": [
      "Enter Team A Id\n",
      "Enter Team B Id\n",
      "CH Gayle\n",
      "Enter Team A Id\n",
      "Enter Team B Id\n",
      "5 4 5 5\n"
     ]
    },
    {
     "name": "stderr",
     "output_type": "stream",
     "text": [
      "192.168.1.3 - - [25/Mar/2019 23:01:53] \"POST / HTTP/1.1\" 200 -\n"
     ]
    },
    {
     "name": "stdout",
     "output_type": "stream",
     "text": [
      "Enter Team A Id\n",
      "Enter Team B Id\n",
      "Enter Team A Id\n",
      "Enter Team B Id\n",
      "Kamran Akmal\n",
      "Enter Team A Id\n",
      "Enter Team B Id\n",
      "5 2 5 5\n",
      "Enter Team A Id\n",
      "Enter Team B Id\n"
     ]
    },
    {
     "name": "stderr",
     "output_type": "stream",
     "text": [
      "192.168.1.3 - - [25/Mar/2019 23:01:59] \"POST / HTTP/1.1\" 200 -\n"
     ]
    },
    {
     "name": "stdout",
     "output_type": "stream",
     "text": [
      "Enter Team A Id\n",
      "Enter Team B Id\n",
      "CH Gayle\n",
      "Enter Team A Id\n",
      "Enter Team B Id\n",
      "8 5 8 8\n",
      "Enter Team A Id\n",
      "Enter Team B Id\n",
      "Enter Team A Id\n",
      "Enter Team B Id\n"
     ]
    },
    {
     "name": "stderr",
     "output_type": "stream",
     "text": [
      "192.168.1.3 - - [25/Mar/2019 23:02:05] \"POST / HTTP/1.1\" 200 -\n"
     ]
    },
    {
     "name": "stdout",
     "output_type": "stream",
     "text": [
      "Kamran Akmal\n",
      "Enter Team A Id\n",
      "Enter Team B Id\n",
      "1 9 1 1\n",
      "Enter Team A Id\n",
      "Enter Team B Id\n",
      "Enter Team A Id\n",
      "Enter Team B Id\n",
      "CH Gayle\n"
     ]
    },
    {
     "name": "stderr",
     "output_type": "stream",
     "text": [
      "192.168.1.3 - - [25/Mar/2019 23:02:09] \"POST / HTTP/1.1\" 200 -\n"
     ]
    },
    {
     "name": "stdout",
     "output_type": "stream",
     "text": [
      "Enter Team A Id\n",
      "Enter Team B Id\n",
      "5 8 5 5\n"
     ]
    },
    {
     "name": "stderr",
     "output_type": "stream",
     "text": [
      "192.168.1.3 - - [25/Mar/2019 23:03:38] \"POST / HTTP/1.1\" 200 -\n"
     ]
    },
    {
     "name": "stdout",
     "output_type": "stream",
     "text": [
      "Enter Team A Id\n",
      "Enter Team B Id\n",
      "Enter Team A Id\n",
      "Enter Team B Id\n",
      "Kamran Akmal\n",
      "Enter Team A Id\n",
      "Enter Team B Id\n",
      "6 2 6 6\n",
      "Enter Team A Id"
     ]
    },
    {
     "name": "stderr",
     "output_type": "stream",
     "text": [
      "192.168.1.3 - - [25/Mar/2019 23:03:43] \"POST / HTTP/1.1\" 200 -\n"
     ]
    },
    {
     "name": "stdout",
     "output_type": "stream",
     "text": [
      "\n",
      "Enter Team B Id\n",
      "Enter Team A Id\n",
      "Enter Team B Id\n",
      "CH Gayle\n",
      "Enter Team A Id\n",
      "Enter Team B Id\n",
      "1 2 1 1\n",
      "Enter Team A Id\n",
      "Enter Team B Id\n",
      "Enter Team A Id\n",
      "Enter Team B Id\n"
     ]
    },
    {
     "name": "stderr",
     "output_type": "stream",
     "text": [
      "192.168.1.3 - - [25/Mar/2019 23:03:48] \"POST / HTTP/1.1\" 200 -\n"
     ]
    },
    {
     "name": "stdout",
     "output_type": "stream",
     "text": [
      "CH Gayle\n",
      "Enter Team A Id\n",
      "Enter Team B Id\n",
      "9 1 9 9\n",
      "Enter Team A Id\n",
      "Enter Team B Id\n"
     ]
    },
    {
     "name": "stderr",
     "output_type": "stream",
     "text": [
      "192.168.1.3 - - [25/Mar/2019 23:03:54] \"POST / HTTP/1.1\" 200 -\n"
     ]
    },
    {
     "name": "stdout",
     "output_type": "stream",
     "text": [
      "Enter Team A Id\n",
      "Enter Team B Id\n",
      "CH Gayle\n",
      "Enter Team A Id\n",
      "Enter Team B Id\n",
      "5 1 5 5\n",
      "Enter Team A Id\n",
      "Enter Team B Id\n",
      "Enter Team A Id\n",
      "Enter Team B Id\n",
      "CH Gayle\n"
     ]
    },
    {
     "name": "stderr",
     "output_type": "stream",
     "text": [
      "192.168.1.3 - - [25/Mar/2019 23:04:03] \"POST / HTTP/1.1\" 200 -\n"
     ]
    },
    {
     "name": "stdout",
     "output_type": "stream",
     "text": [
      "Enter Team A Id\n",
      "Enter Team B Id\n",
      "1 6 1 1\n"
     ]
    },
    {
     "name": "stderr",
     "output_type": "stream",
     "text": [
      "192.168.1.3 - - [25/Mar/2019 23:04:07] \"POST / HTTP/1.1\" 200 -\n"
     ]
    },
    {
     "name": "stdout",
     "output_type": "stream",
     "text": [
      "Enter Team A Id\n",
      "Enter Team B Id\n",
      "Enter Team A Id\n",
      "Enter Team B Id\n",
      "CH Gayle\n",
      "Enter Team A Id\n",
      "Enter Team B Id\n",
      "1 1 1 1\n",
      "Enter Team A Id\n",
      "Enter Team B Id\n"
     ]
    },
    {
     "name": "stderr",
     "output_type": "stream",
     "text": [
      "192.168.1.3 - - [25/Mar/2019 23:04:13] \"POST / HTTP/1.1\" 200 -\n"
     ]
    },
    {
     "name": "stdout",
     "output_type": "stream",
     "text": [
      "Enter Team A Id\n",
      "Enter Team B Id\n",
      "CH Gayle\n",
      "Enter Team A Id\n",
      "Enter Team B Id\n",
      "7 2 7 7\n",
      "Enter Team A Id\n",
      "Enter Team B Id\n"
     ]
    },
    {
     "name": "stderr",
     "output_type": "stream",
     "text": [
      "192.168.1.3 - - [25/Mar/2019 23:04:18] \"POST / HTTP/1.1\" 200 -\n"
     ]
    },
    {
     "name": "stdout",
     "output_type": "stream",
     "text": [
      "Enter Team A Id\n",
      "Enter Team B Id\n",
      "CH Gayle\n",
      "Enter Team A Id\n",
      "Enter Team B Id\n",
      "5 9 5 5\n",
      "Enter Team A Id\n",
      "Enter Team B Id\n",
      "Enter Team A Id\n",
      "Enter Team B Id\n",
      "Kamran Akmal\n"
     ]
    },
    {
     "name": "stderr",
     "output_type": "stream",
     "text": [
      "192.168.1.3 - - [25/Mar/2019 23:04:32] \"POST / HTTP/1.1\" 200 -\n"
     ]
    },
    {
     "name": "stdout",
     "output_type": "stream",
     "text": [
      "Enter Team A Id\n",
      "Enter Team B Id\n",
      "7 9 7 7\n",
      "Enter Team A Id\n",
      "Enter Team B Id\n",
      "Enter Team A Id\n",
      "Enter Team B Id\n"
     ]
    },
    {
     "name": "stderr",
     "output_type": "stream",
     "text": [
      "192.168.1.3 - - [25/Mar/2019 23:04:43] \"POST / HTTP/1.1\" 200 -\n"
     ]
    },
    {
     "name": "stdout",
     "output_type": "stream",
     "text": [
      "LMP Simmons\n",
      "Enter Team A Id\n",
      "Enter Team B Id\n",
      "1 1 1 1\n"
     ]
    },
    {
     "name": "stderr",
     "output_type": "stream",
     "text": [
      "192.168.1.3 - - [25/Mar/2019 23:04:55] \"POST / HTTP/1.1\" 200 -\n"
     ]
    },
    {
     "name": "stdout",
     "output_type": "stream",
     "text": [
      "Enter Team A Id\n",
      "Enter Team B Id\n",
      "Enter Team A Id\n",
      "Enter Team B Id\n",
      "CH Gayle\n",
      "Enter Team A Id\n",
      "Enter Team B Id\n",
      "9 1 1 9\n"
     ]
    },
    {
     "name": "stderr",
     "output_type": "stream",
     "text": [
      "192.168.1.3 - - [25/Mar/2019 23:05:08] \"POST / HTTP/1.1\" 200 -\n"
     ]
    },
    {
     "name": "stdout",
     "output_type": "stream",
     "text": [
      "Enter Team A Id\n",
      "Enter Team B Id\n",
      "Enter Team A Id\n",
      "Enter Team B Id\n",
      "CH Gayle\n",
      "Enter Team A Id\n",
      "Enter Team B Id\n",
      "9 1 9 9\n"
     ]
    },
    {
     "name": "stderr",
     "output_type": "stream",
     "text": [
      "192.168.1.3 - - [25/Mar/2019 23:05:34] \"POST / HTTP/1.1\" 200 -\n"
     ]
    },
    {
     "name": "stdout",
     "output_type": "stream",
     "text": [
      "Enter Team A Id\n",
      "Enter Team B Id\n",
      "Enter Team A Id\n",
      "Enter Team B Id\n",
      "CH Gayle\n",
      "Enter Team A Id\n",
      "Enter Team B Id\n"
     ]
    }
   ],
   "source": [
    "from flask import Flask, jsonify, request\n",
    "from main import predict\n",
    "from bowler import best_bowler\n",
    "from batsman import best_batsman\n",
    "from allrounder import best_allrounder\n",
    "\n",
    "app = Flask(__name__)\n",
    "\n",
    "# data['A']: teamid, data['B']: oppponentid,  data['C']: tosswon, data['D']: batfirst\n",
    "\n",
    "\n",
    "@app.route('/', methods=['POST'])\n",
    "def predict_winner():\n",
    "    # fitModels()\n",
    "    data = request.get_json()\n",
    "    winner = predict(data['A'], data['B'], data['C'], data['D'])\n",
    "    bestbowler = best_bowler(data['A'], data['B'])\n",
    "    bestbatsmen = best_batsman(data['A'], data['B'])\n",
    "    allrounder = best_allrounder(data['A'], data['B'])\n",
    "    return jsonify({\n",
    "        \"winner\": winner,\n",
    "        \"best_bowler\": bestbowler,\n",
    "        \"best_batsman\": bestbatsmen,\n",
    "        \"all_rounder\": allrounder\n",
    "    })\n",
    "\n",
    "from werkzeug.serving import run_simple\n",
    "run_simple('0.0.0.0', 5000 ,app)\n"
   ]
  },
  {
   "cell_type": "code",
   "execution_count": null,
   "metadata": {},
   "outputs": [],
   "source": []
  }
 ],
 "metadata": {
  "kernelspec": {
   "display_name": "Python 3",
   "language": "python",
   "name": "python3"
  },
  "language_info": {
   "codemirror_mode": {
    "name": "ipython",
    "version": 3
   },
   "file_extension": ".py",
   "mimetype": "text/x-python",
   "name": "python",
   "nbconvert_exporter": "python",
   "pygments_lexer": "ipython3",
   "version": "3.6.5"
  }
 },
 "nbformat": 4,
 "nbformat_minor": 2
}
